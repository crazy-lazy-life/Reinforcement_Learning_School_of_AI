{
  "nbformat": 4,
  "nbformat_minor": 0,
  "metadata": {
    "colab": {
      "name": "Value_&_Policy_Iteration_RL_School_Of_AI.ipynb",
      "version": "0.3.2",
      "provenance": [],
      "include_colab_link": true
    },
    "kernelspec": {
      "name": "python3",
      "display_name": "Python 3"
    }
  },
  "cells": [
    {
      "cell_type": "markdown",
      "metadata": {
        "id": "view-in-github",
        "colab_type": "text"
      },
      "source": [
        "<a href=\"https://colab.research.google.com/github/crazy-lazy-life/Reinforcement_Learning_School_of_AI/blob/master/Value_%26_Policy_Iteration_RL_School_Of_AI.ipynb\" target=\"_parent\"><img src=\"https://colab.research.google.com/assets/colab-badge.svg\" alt=\"Open In Colab\"/></a>"
      ]
    },
    {
      "metadata": {
        "id": "bZDi4xTOfKvf",
        "colab_type": "code",
        "colab": {}
      },
      "cell_type": "code",
      "source": [
        "import numpy as np\n",
        "import gym\n",
        "from gym import wrappers"
      ],
      "execution_count": 0,
      "outputs": []
    },
    {
      "metadata": {
        "id": "DxooXMdSfv7u",
        "colab_type": "code",
        "colab": {}
      },
      "cell_type": "code",
      "source": [
        "def run_episode(env, policy, gamma = 0.9, render = False):\n",
        "  obs = env.reset()\n",
        "  total_reward = 0\n",
        "  step_index = 0\n",
        "  while True:\n",
        "    if render:\n",
        "      env.render()\n",
        "    obs, reward, done, _ = env.step(int(policy[obs]))\n",
        "    total_reward += (gamma ** step_index * reward)\n",
        "    step_index += 1\n",
        "    if done:\n",
        "      break\n",
        "   \n",
        "  return total_reward"
      ],
      "execution_count": 0,
      "outputs": []
    },
    {
      "metadata": {
        "id": "U9g5fXts7vNK",
        "colab_type": "code",
        "colab": {}
      },
      "cell_type": "code",
      "source": [
        "def evaluate_policy(env, policy, gamma = 0.9, n = 100):\n",
        "  scores = [run_episode(env, policy, gamma = gamma, render = False) for _ in range(n)]\n",
        "  return np.mean(scores)"
      ],
      "execution_count": 0,
      "outputs": []
    },
    {
      "metadata": {
        "id": "3AXMehFF8BWx",
        "colab_type": "code",
        "colab": {}
      },
      "cell_type": "code",
      "source": [
        "def extract_policy(v, gamma = 0.9):\n",
        "  policy = np.zeros(env.env.nS)\n",
        "  for s in range(env.env.nS):\n",
        "    q_sa = np.zeros(env.action_space.n)\n",
        "    for a in range(env.action_space.n):\n",
        "      for next_sr in env.env.P[s][a]:\n",
        "        p, s_, r, _ = next_sr\n",
        "        q_sa[a] += (p * (r + gamma * v[s_]))\n",
        "       \n",
        "    policy[s] = np.argmax(q_sa)\n",
        "    \n",
        "  return policy"
      ],
      "execution_count": 0,
      "outputs": []
    },
    {
      "metadata": {
        "id": "wna4vhzbuITB",
        "colab_type": "code",
        "colab": {}
      },
      "cell_type": "code",
      "source": [
        "def compute_policy_v(env, policy, gamma=1.0):\n",
        "    \"\"\" Iteratively evaluate the value-function under policy.\n",
        "    Alternatively, we could formulate a set of linear equations in iterms of v[s] \n",
        "    and solve them to find the value function.\n",
        "    \"\"\"\n",
        "    v = np.zeros(env.env.nS)\n",
        "    eps = 1e-10\n",
        "    while True:\n",
        "        prev_v = np.copy(v)\n",
        "        for s in range(env.env.nS):\n",
        "            policy_a = policy[s]\n",
        "            v[s] = sum([p * (r + gamma * prev_v[s_]) for p, s_, r, _ in env.env.P[s][policy_a]])\n",
        "        if (np.sum((np.fabs(prev_v - v))) <= eps):\n",
        "            # value converged\n",
        "            break\n",
        "    return v"
      ],
      "execution_count": 0,
      "outputs": []
    },
    {
      "metadata": {
        "id": "pDtZfBoo-mL2",
        "colab_type": "code",
        "colab": {}
      },
      "cell_type": "code",
      "source": [
        "def value_iteration(env, gamma = 0.9):\n",
        "  v = np.zeros(env.env.nS)\n",
        "  max_iterations = 10000\n",
        "  eps = 1e-20\n",
        "  for i in range(max_iterations):\n",
        "    prev_v = np.copy(v)\n",
        "    for s in range(env.env.nS):\n",
        "      q_sa = [sum([p*(r+prev_v[s_]) for p, s_, r, _ in env.env.P[s][a]]) for a in range(env.env.nA)]\n",
        "      v[s] = max(q_sa)\n",
        "\n",
        "    if (np.sum(np.fabs(prev_v - v)) <= eps):\n",
        "      break;\n",
        "     \n",
        "  return v"
      ],
      "execution_count": 0,
      "outputs": []
    },
    {
      "metadata": {
        "id": "StDKWu9EuPrX",
        "colab_type": "code",
        "colab": {}
      },
      "cell_type": "code",
      "source": [
        "def policy_iteration(env, gamma = 1.0):\n",
        "    \"\"\" Policy-Iteration algorithm \"\"\"\n",
        "    policy = np.random.choice(env.env.nA, size=(env.env.nS))  # initialize a random policy\n",
        "    max_iterations = 200000\n",
        "    gamma = 1.0\n",
        "    for i in range(max_iterations):\n",
        "        old_policy_v = compute_policy_v(env, policy, gamma)\n",
        "        new_policy = extract_policy(old_policy_v, gamma)\n",
        "        if (np.all(policy == new_policy)):\n",
        "            print ('Policy-Iteration converged at step %d.' %(i+1))\n",
        "            break\n",
        "        policy = new_policy\n",
        "    return policy\n"
      ],
      "execution_count": 0,
      "outputs": []
    },
    {
      "metadata": {
        "id": "ouzslXZCCM7k",
        "colab_type": "code",
        "outputId": "578fece6-a411-4f00-90e7-5b4a3760df81",
        "colab": {
          "base_uri": "https://localhost:8080/",
          "height": 156
        }
      },
      "cell_type": "code",
      "source": [
        "if __name__ == '__main__':\n",
        "  env_name = 'FrozenLake8x8-v0'\n",
        "  gamma = 0.9\n",
        "  env = gym.make(env_name)\n",
        "  print('By Value Iteration')\n",
        "  optimal_v = value_iteration(env, gamma)\n",
        "  policy = extract_policy(optimal_v, gamma)\n",
        "  policy_score = evaluate_policy(env, policy, gamma, n=1000)\n",
        "  print('Policy average score = ', policy_score)\n",
        "  print('By Policy Iteration')\n",
        "  optimal_policy = policy_iteration(env, gamma = 1.0)\n",
        "  scores = evaluate_policy(env, optimal_policy, gamma = 1.0)\n",
        "  print('Average scores = ', np.mean(scores))"
      ],
      "execution_count": 72,
      "outputs": [
        {
          "output_type": "stream",
          "text": [
            "/usr/local/lib/python3.6/dist-packages/gym/envs/registration.py:14: PkgResourcesDeprecationWarning: Parameters to load are deprecated.  Call .resolve and .require separately.\n",
            "  result = entry_point.load(False)\n"
          ],
          "name": "stderr"
        },
        {
          "output_type": "stream",
          "text": [
            "By Value Iteration\n",
            "Policy average score =  0.002189046980988554\n",
            "By Policy Iteration\n",
            "Policy-Iteration converged at step 6.\n",
            "Average scores =  0.89\n"
          ],
          "name": "stdout"
        }
      ]
    },
    {
      "metadata": {
        "id": "1OnKMsucFyAe",
        "colab_type": "code",
        "colab": {}
      },
      "cell_type": "code",
      "source": [
        ""
      ],
      "execution_count": 0,
      "outputs": []
    }
  ]
}